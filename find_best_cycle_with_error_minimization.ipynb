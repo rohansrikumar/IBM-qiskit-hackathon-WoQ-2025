{
 "cells": [
  {
   "cell_type": "code",
   "execution_count": 1,
   "id": "755dc2da-a1de-4f1f-97fb-6919aa054665",
   "metadata": {},
   "outputs": [
    {
     "name": "stderr",
     "output_type": "stream",
     "text": [
      "/Users/Quentin/Documents/applications/PythonIDE/path_env/qiskit_env/lib/python3.8/site-packages/urllib3/__init__.py:35: NotOpenSSLWarning: urllib3 v2 only supports OpenSSL 1.1.1+, currently the 'ssl' module is compiled with 'LibreSSL 2.8.3'. See: https://github.com/urllib3/urllib3/issues/3020\n",
      "  warnings.warn(\n"
     ]
    }
   ],
   "source": [
    "import networkx as nx\n",
    "import numpy as np\n",
    "import qiskit_ibm_runtime.fake_provider as fk \n",
    "from qiskit.transpiler import Layout, CouplingMap"
   ]
  },
  {
   "cell_type": "markdown",
   "id": "d10b8bf4-2ac6-45a6-a6c0-bafae0317158",
   "metadata": {},
   "source": [
    "# Find best circuit adptating error circuit according to the subgraph\n",
    "\n",
    "this note modifies the  function <u>find_best_cycle</u>. These modifications make it possible to take into account physical errors on the machine and to choose the cyclic sub-graph with the fewest errors in the case where several sub-graphs of the same length are proposed by the algorithm. To make this code functional, the input parameter <b>couplingMap</b> of <u>find_best_cycle</u> and <u>adaptive_ring_layout</u> must be replace by the <b>backend</b>. "
   ]
  },
  {
   "cell_type": "code",
   "execution_count": 2,
   "id": "d3867137-0e4e-49b9-916a-57a420d1ff3a",
   "metadata": {},
   "outputs": [],
   "source": [
    "def minErrorCircuit(cycles, properties):\n",
    "    \"\"\"\n",
    "    Return the circuit with the minimum error mitigation of the given backend \n",
    "    \"\"\" \n",
    "    erroPerCycle = []\n",
    "    # list of error mitigation per circuit \n",
    "    for idx_cycle in  range(len(cycles)):\n",
    "        selected_qubits = cycles[idx_cycle]\n",
    "        erroPerCycle.append(sum(properties.readout_error(qubit) for qubit in selected_qubits)) \n",
    "    idxmin = np.argmin(erroPerCycle) # get the minimum error mitigation circuit \n",
    "    return cycles[idxmin]\n",
    "\n",
    "def get_min_index(vector):\n",
    "    \"\"\"\n",
    "    get the minimum length index of a graph list\n",
    "    \"\"\"\n",
    "    sizeExact = []\n",
    "    sizeExact.append([len(vector[i]) for i in range(len(vector))])\n",
    "    min_val = min(sizeExact[0])\n",
    "    indices = [i for i, val in enumerate(sizeExact[0]) if val == min_val]\n",
    "    return indices\n",
    "    \n",
    "\n",
    "def find_best_cycle(backend, n: int):\n",
    "    \"\"\"\n",
    "    Find exact cycle of length n, else nearest larger cycle.\n",
    "    In this version, if the list of the minimum sizes cycles give more than 1,\n",
    "    then choose the circuit with the minimum error mitation.\n",
    "    \"\"\"\n",
    "\n",
    "    # get the coupling map of the backend\n",
    "    coupling_map = CouplingMap(backend.configuration().coupling_map)\n",
    "\n",
    "    # get the list of cycliq subgraph\n",
    "    G = nx.Graph()\n",
    "    G.add_edges_from(coupling_map.get_edges())\n",
    "    cycles = list(nx.cycle_basis(G))\n",
    "    \n",
    "    exact  = [c for c in cycles if len(c) == n]\n",
    "    larger = [c for c in cycles if len(c) > n]\n",
    "    properties = backend.properties()\n",
    "    if exact:\n",
    "         \n",
    "        indices = get_min_index(exact)               # get the index of the minimum circuit\n",
    "        elements = [exact[i] for i in indices]       # get the subgraph with lenght n\n",
    "        return minErrorCircuit(elements, properties) # return the minimum mitigation error subgraph\n",
    "\n",
    "    if larger:\n",
    "        indices = get_min_index(larger)              # Pick smallest larger cycle\n",
    "        elements = [larger[i] for i in indices]      # get the subgraph with lenght n\n",
    "        return minErrorCircuit(elements, properties) # return the minimum mitigation error subgraph\n",
    "    return None\n",
    "\n",
    "\n",
    "def adaptive_ring_layout(logical_qubits: int, backend):\n",
    "    \"\"\"\n",
    "    Adaptive layout for ring circuits with ancilla if needed.\n",
    "    \"\"\"\n",
    "    cycle = find_best_cycle(backend, logical_qubits)\n",
    "    if cycle is None:\n",
    "        raise ValueError(\"No valid cycles found in hardware coupling map.\")\n",
    "\n",
    "    required_qubits = len(cycle)\n",
    "    ancilla = required_qubits - logical_qubits\n",
    "\n",
    "\n",
    "    return required_qubits, ancilla#, layout"
   ]
  },
  {
   "cell_type": "code",
   "execution_count": 3,
   "id": "94cfae68-8708-492f-97db-be9ba6bf78c6",
   "metadata": {},
   "outputs": [],
   "source": [
    "backend = fk.FakeAuckland()\n",
    "for n in range(1,20):\n",
    "    required_qubits, ancilla_count = adaptive_ring_layout(n, backend)\n",
    "    cycle = find_best_cycle(backend, required_qubits)"
   ]
  }
 ],
 "metadata": {
  "kernelspec": {
   "display_name": "Python 3 (ipykernel)",
   "language": "python",
   "name": "python3"
  },
  "language_info": {
   "codemirror_mode": {
    "name": "ipython",
    "version": 3
   },
   "file_extension": ".py",
   "mimetype": "text/x-python",
   "name": "python",
   "nbconvert_exporter": "python",
   "pygments_lexer": "ipython3",
   "version": "3.8.9"
  }
 },
 "nbformat": 4,
 "nbformat_minor": 5
}
